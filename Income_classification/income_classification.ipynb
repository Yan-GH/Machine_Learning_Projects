{
 "cells": [
  {
   "cell_type": "markdown",
   "metadata": {},
   "source": [
    "## Procedures\n",
    "\n",
    "- [Project Description](#in)\n",
    "- [1: Loading the dataset](#1)\n",
    "- [2: Exploratory data analysis (EDA)](#2)\n",
    "- [3: Preprocessing and pipelines](#3)\n",
    "- [4: Building models](#4)\n",
    "- [5: Evaluating on the test set](#5)"
   ]
  },
  {
   "cell_type": "code",
   "execution_count": 4,
   "metadata": {},
   "outputs": [
    {
     "data": {
      "text/plain": [
       "DataTransformerRegistry.enable('data_server')"
      ]
     },
     "execution_count": 4,
     "metadata": {},
     "output_type": "execute_result"
    }
   ],
   "source": [
    "# Import libraries\n",
    "from hashlib import sha1\n",
    "\n",
    "import matplotlib.pyplot as plt\n",
    "import numpy as np\n",
    "import pandas as pd\n",
    "from IPython.display import HTML\n",
    "\n",
    "pd.set_option(\"display.max_colwidth\", 200)\n",
    "\n",
    "from sklearn.compose import ColumnTransformer\n",
    "from sklearn.dummy import DummyClassifier\n",
    "from sklearn.impute import SimpleImputer\n",
    "from sklearn.model_selection import cross_val_score, cross_validate, train_test_split\n",
    "from sklearn.neighbors import KNeighborsClassifier\n",
    "from sklearn.pipeline import Pipeline, make_pipeline\n",
    "from sklearn.preprocessing import (\n",
    "    FunctionTransformer,\n",
    "    Normalizer,\n",
    "    OneHotEncoder,\n",
    "    StandardScaler,\n",
    "    normalize,\n",
    "    scale,\n",
    ")\n",
    "from sklearn.svm import SVC\n",
    "from sklearn.tree import DecisionTreeClassifier\n",
    "\n",
    "import altair as alt\n",
    "# Save a vega-lite spec and a PNG blob for each plot in the notebook\n",
    "alt.renderers.enable(\"mimetype\")\n",
    "# Handle large data sets without embedding them in the notebook\n",
    "alt.data_transformers.enable(\"data_server\")"
   ]
  },
  {
   "cell_type": "markdown",
   "metadata": {},
   "source": [
    "## Project Description <a name=\"in\"></a>\n",
    "\n",
    "In this project, a classification model is built on a real-world dataset [the adult census dataset](https://www.kaggle.com/uciml/adult-census-income#) from Kaggle. \n",
    "\n",
    "This is a classification dataset and the classification task is to predict whether income exceeds 50K per year or not based on the census data. You can find more information on the dataset and features [here](http://archive.ics.uci.edu/ml/datasets/Adult)."
   ]
  },
  {
   "cell_type": "markdown",
   "metadata": {},
   "source": [
    "## 1: Loading the dataset <a name=\"1\"></a>\n",
    "<hr>\n",
    "\n",
    "The dataset `adult.csv` can be found in the data folder.\n",
    "\n",
    "The starter code below loads the data CSV.\n",
    "\n",
    "*Note that many popular datasets have sex as a feature where the possible values are male and female. This representation reflects how the data were collected and is not meant to imply that, for example, gender is binary.*"
   ]
  },
  {
   "cell_type": "code",
   "execution_count": 6,
   "metadata": {
    "slideshow": {
     "slide_type": "slide"
    }
   },
   "outputs": [
    {
     "data": {
      "text/plain": [
       "(15682, 15)"
      ]
     },
     "execution_count": 6,
     "metadata": {},
     "output_type": "execute_result"
    }
   ],
   "source": [
    "### Loading the dataset\n",
    "\n",
    "# I am undersampling the dataset so that the labels are balanced.\n",
    "adult_df_large = pd.read_csv(\"data/adult.csv\")\n",
    "g50k = adult_df_large[adult_df_large[\"income\"] == \">50K\"]\n",
    "leq50k_sample = adult_df_large[adult_df_large[\"income\"] == \"<=50K\"].sample(\n",
    "    g50k.shape[0]\n",
    ")\n",
    "census_df = pd.concat([g50k, leq50k_sample])\n",
    "census_df.shape"
   ]
  },
  {
   "cell_type": "markdown",
   "metadata": {},
   "source": [
    "### 1.1 Data splitting \n",
    "\n",
    "In order to avoid violation of the golden rule, the first step before we do anything is splitting the data:\n",
    "\n",
    "Split the data into `train_df` (80%) and `test_df` (20%). Keep the target column (`income`) in the splits so that we can use it in EDA. \n"
   ]
  },
  {
   "cell_type": "code",
   "execution_count": 39,
   "metadata": {
    "slideshow": {
     "slide_type": "slide"
    }
   },
   "outputs": [],
   "source": [
    "train_df, test_df = train_test_split(census_df, test_size=0.2, random_state=123)"
   ]
  },
  {
   "cell_type": "markdown",
   "metadata": {
    "slideshow": {
     "slide_type": "slide"
    }
   },
   "source": [
    "## 2: Exploratory data analysis (EDA) <a name=\"2\"></a> \n",
    "<hr>"
   ]
  },
  {
   "cell_type": "markdown",
   "metadata": {},
   "source": [
    "Let's examine our `train_df`. "
   ]
  },
  {
   "cell_type": "code",
   "execution_count": 40,
   "metadata": {},
   "outputs": [
    {
     "data": {
      "text/html": [
       "<div>\n",
       "<style scoped>\n",
       "    .dataframe tbody tr th:only-of-type {\n",
       "        vertical-align: middle;\n",
       "    }\n",
       "\n",
       "    .dataframe tbody tr th {\n",
       "        vertical-align: top;\n",
       "    }\n",
       "\n",
       "    .dataframe thead th {\n",
       "        text-align: right;\n",
       "    }\n",
       "</style>\n",
       "<table border=\"1\" class=\"dataframe\">\n",
       "  <thead>\n",
       "    <tr style=\"text-align: right;\">\n",
       "      <th></th>\n",
       "      <th>age</th>\n",
       "      <th>workclass</th>\n",
       "      <th>fnlwgt</th>\n",
       "      <th>education</th>\n",
       "      <th>education.num</th>\n",
       "      <th>marital.status</th>\n",
       "      <th>occupation</th>\n",
       "      <th>relationship</th>\n",
       "      <th>race</th>\n",
       "      <th>sex</th>\n",
       "      <th>capital.gain</th>\n",
       "      <th>capital.loss</th>\n",
       "      <th>hours.per.week</th>\n",
       "      <th>native.country</th>\n",
       "      <th>income</th>\n",
       "    </tr>\n",
       "  </thead>\n",
       "  <tbody>\n",
       "    <tr>\n",
       "      <th>2</th>\n",
       "      <td>66</td>\n",
       "      <td>?</td>\n",
       "      <td>186061</td>\n",
       "      <td>Some-college</td>\n",
       "      <td>10</td>\n",
       "      <td>Widowed</td>\n",
       "      <td>?</td>\n",
       "      <td>Unmarried</td>\n",
       "      <td>Black</td>\n",
       "      <td>Female</td>\n",
       "      <td>0</td>\n",
       "      <td>4356</td>\n",
       "      <td>40</td>\n",
       "      <td>United-States</td>\n",
       "      <td>&lt;=50K</td>\n",
       "    </tr>\n",
       "    <tr>\n",
       "      <th>7</th>\n",
       "      <td>74</td>\n",
       "      <td>State-gov</td>\n",
       "      <td>88638</td>\n",
       "      <td>Doctorate</td>\n",
       "      <td>16</td>\n",
       "      <td>Never-married</td>\n",
       "      <td>Prof-specialty</td>\n",
       "      <td>Other-relative</td>\n",
       "      <td>White</td>\n",
       "      <td>Female</td>\n",
       "      <td>0</td>\n",
       "      <td>3683</td>\n",
       "      <td>20</td>\n",
       "      <td>United-States</td>\n",
       "      <td>&gt;50K</td>\n",
       "    </tr>\n",
       "    <tr>\n",
       "      <th>9</th>\n",
       "      <td>41</td>\n",
       "      <td>Private</td>\n",
       "      <td>70037</td>\n",
       "      <td>Some-college</td>\n",
       "      <td>10</td>\n",
       "      <td>Never-married</td>\n",
       "      <td>Craft-repair</td>\n",
       "      <td>Unmarried</td>\n",
       "      <td>White</td>\n",
       "      <td>Male</td>\n",
       "      <td>0</td>\n",
       "      <td>3004</td>\n",
       "      <td>60</td>\n",
       "      <td>?</td>\n",
       "      <td>&gt;50K</td>\n",
       "    </tr>\n",
       "    <tr>\n",
       "      <th>10</th>\n",
       "      <td>45</td>\n",
       "      <td>Private</td>\n",
       "      <td>172274</td>\n",
       "      <td>Doctorate</td>\n",
       "      <td>16</td>\n",
       "      <td>Divorced</td>\n",
       "      <td>Prof-specialty</td>\n",
       "      <td>Unmarried</td>\n",
       "      <td>Black</td>\n",
       "      <td>Female</td>\n",
       "      <td>0</td>\n",
       "      <td>3004</td>\n",
       "      <td>35</td>\n",
       "      <td>United-States</td>\n",
       "      <td>&gt;50K</td>\n",
       "    </tr>\n",
       "    <tr>\n",
       "      <th>11</th>\n",
       "      <td>38</td>\n",
       "      <td>Self-emp-not-inc</td>\n",
       "      <td>164526</td>\n",
       "      <td>Prof-school</td>\n",
       "      <td>15</td>\n",
       "      <td>Never-married</td>\n",
       "      <td>Prof-specialty</td>\n",
       "      <td>Not-in-family</td>\n",
       "      <td>White</td>\n",
       "      <td>Male</td>\n",
       "      <td>0</td>\n",
       "      <td>2824</td>\n",
       "      <td>45</td>\n",
       "      <td>United-States</td>\n",
       "      <td>&gt;50K</td>\n",
       "    </tr>\n",
       "  </tbody>\n",
       "</table>\n",
       "</div>"
      ],
      "text/plain": [
       "    age         workclass  fnlwgt     education  education.num marital.status  \\\n",
       "2    66                 ?  186061  Some-college             10        Widowed   \n",
       "7    74         State-gov   88638     Doctorate             16  Never-married   \n",
       "9    41           Private   70037  Some-college             10  Never-married   \n",
       "10   45           Private  172274     Doctorate             16       Divorced   \n",
       "11   38  Self-emp-not-inc  164526   Prof-school             15  Never-married   \n",
       "\n",
       "        occupation    relationship   race     sex  capital.gain  capital.loss  \\\n",
       "2                ?       Unmarried  Black  Female             0          4356   \n",
       "7   Prof-specialty  Other-relative  White  Female             0          3683   \n",
       "9     Craft-repair       Unmarried  White    Male             0          3004   \n",
       "10  Prof-specialty       Unmarried  Black  Female             0          3004   \n",
       "11  Prof-specialty   Not-in-family  White    Male             0          2824   \n",
       "\n",
       "    hours.per.week native.country income  \n",
       "2               40  United-States  <=50K  \n",
       "7               20  United-States   >50K  \n",
       "9               60              ?   >50K  \n",
       "10              35  United-States   >50K  \n",
       "11              45  United-States   >50K  "
      ]
     },
     "execution_count": 40,
     "metadata": {},
     "output_type": "execute_result"
    }
   ],
   "source": [
    "train_df.sort_index().head()"
   ]
  },
  {
   "cell_type": "markdown",
   "metadata": {},
   "source": [
    "We see some missing values represented with a \"?\". Probably these were the questions not answered by some people during the census.  Usually `.describe()` or `.info()` methods would give you information on missing values. But here, they won't pick \"?\" as missing values as they are encoded as strings instead of an actual NaN in Python. So let's replace them with `np.NaN` before we carry out EDA. If you do not do it, you'll encounter an error later on when you try to pass this data to a classifier. "
   ]
  },
  {
   "cell_type": "code",
   "execution_count": 41,
   "metadata": {},
   "outputs": [],
   "source": [
    "train_df_nan = train_df.replace(\"?\", np.NaN)\n",
    "test_df_nan = test_df.replace(\"?\", np.NaN)"
   ]
  },
  {
   "cell_type": "markdown",
   "metadata": {},
   "source": [
    "### 2.1 Numeric vs. categorical features\n",
    "\n",
    "1. Identify numeric and categorical features and create lists for each of them. \n",
    "2. Check if there are any features which are neither numeric nor categorical in this dataset. If yes, create a separate list for those features."
   ]
  },
  {
   "cell_type": "code",
   "execution_count": 42,
   "metadata": {
    "slideshow": {
     "slide_type": "slide"
    }
   },
   "outputs": [],
   "source": [
    "### 2.1.1\n",
    "# numeric_features = train_df.select_dtypes(include=\"int64\").columns.to_list()\n",
    "numeric_features = ['age', 'fnlwgt', 'education.num', 'capital.gain', 'capital.loss', 'hours.per.week']\n",
    "\n",
    "# categorical_features = train_df.select_dtypes(include=\"object\").columns.to_list()\n",
    "categorical_features = ['workclass', 'education', 'marital.status', 'occupation', 'relationship', 'race', 'sex', 'native.country']\n",
    "\n",
    "### 2.1.2\n",
    "# remainder_features = []\n",
    "# There is no feature that is neither numeric nor categorical in this dataset."
   ]
  },
  {
   "cell_type": "markdown",
   "metadata": {},
   "source": [
    "### 2.2 Visualizing features\n",
    "\n",
    "1. Use `train_df_nan.info()` method to describe information of each feature and `train_df_nan.describe()` using the `include=\"all\"` argument to show summary statistics of each feature. \n",
    "2. Visualize the histograms of numeric features. \n",
    "3. Check which features seem relevant for the given prediction task\n",
    "\n",
    "We can also use `pandas_profiling` for more elaborate visualization and EDA. "
   ]
  },
  {
   "cell_type": "code",
   "execution_count": 11,
   "metadata": {
    "slideshow": {
     "slide_type": "slide"
    }
   },
   "outputs": [
    {
     "name": "stdout",
     "output_type": "stream",
     "text": [
      "<class 'pandas.core.frame.DataFrame'>\n",
      "Int64Index: 12545 entries, 17825 to 10168\n",
      "Data columns (total 15 columns):\n",
      " #   Column          Non-Null Count  Dtype \n",
      "---  ------          --------------  ----- \n",
      " 0   age             12545 non-null  int64 \n",
      " 1   workclass       11971 non-null  object\n",
      " 2   fnlwgt          12545 non-null  int64 \n",
      " 3   education       12545 non-null  object\n",
      " 4   education.num   12545 non-null  int64 \n",
      " 5   marital.status  12545 non-null  object\n",
      " 6   occupation      11970 non-null  object\n",
      " 7   relationship    12545 non-null  object\n",
      " 8   race            12545 non-null  object\n",
      " 9   sex             12545 non-null  object\n",
      " 10  capital.gain    12545 non-null  int64 \n",
      " 11  capital.loss    12545 non-null  int64 \n",
      " 12  hours.per.week  12545 non-null  int64 \n",
      " 13  native.country  12333 non-null  object\n",
      " 14  income          12545 non-null  object\n",
      "dtypes: int64(6), object(9)\n",
      "memory usage: 1.5+ MB\n"
     ]
    }
   ],
   "source": [
    "### describe information of each feature\n",
    "train_df_nan.info()"
   ]
  },
  {
   "cell_type": "code",
   "execution_count": 12,
   "metadata": {
    "slideshow": {
     "slide_type": "slide"
    }
   },
   "outputs": [
    {
     "data": {
      "text/html": [
       "<div>\n",
       "<style scoped>\n",
       "    .dataframe tbody tr th:only-of-type {\n",
       "        vertical-align: middle;\n",
       "    }\n",
       "\n",
       "    .dataframe tbody tr th {\n",
       "        vertical-align: top;\n",
       "    }\n",
       "\n",
       "    .dataframe thead th {\n",
       "        text-align: right;\n",
       "    }\n",
       "</style>\n",
       "<table border=\"1\" class=\"dataframe\">\n",
       "  <thead>\n",
       "    <tr style=\"text-align: right;\">\n",
       "      <th></th>\n",
       "      <th>age</th>\n",
       "      <th>workclass</th>\n",
       "      <th>fnlwgt</th>\n",
       "      <th>education</th>\n",
       "      <th>education.num</th>\n",
       "      <th>marital.status</th>\n",
       "      <th>occupation</th>\n",
       "      <th>relationship</th>\n",
       "      <th>race</th>\n",
       "      <th>sex</th>\n",
       "      <th>capital.gain</th>\n",
       "      <th>capital.loss</th>\n",
       "      <th>hours.per.week</th>\n",
       "      <th>native.country</th>\n",
       "      <th>income</th>\n",
       "    </tr>\n",
       "  </thead>\n",
       "  <tbody>\n",
       "    <tr>\n",
       "      <th>count</th>\n",
       "      <td>12545.000000</td>\n",
       "      <td>11971</td>\n",
       "      <td>1.254500e+04</td>\n",
       "      <td>12545</td>\n",
       "      <td>12545.000000</td>\n",
       "      <td>12545</td>\n",
       "      <td>11970</td>\n",
       "      <td>12545</td>\n",
       "      <td>12545</td>\n",
       "      <td>12545</td>\n",
       "      <td>12545.000000</td>\n",
       "      <td>12545.000000</td>\n",
       "      <td>12545.000000</td>\n",
       "      <td>12333</td>\n",
       "      <td>12545</td>\n",
       "    </tr>\n",
       "    <tr>\n",
       "      <th>unique</th>\n",
       "      <td>NaN</td>\n",
       "      <td>8</td>\n",
       "      <td>NaN</td>\n",
       "      <td>16</td>\n",
       "      <td>NaN</td>\n",
       "      <td>7</td>\n",
       "      <td>14</td>\n",
       "      <td>6</td>\n",
       "      <td>5</td>\n",
       "      <td>2</td>\n",
       "      <td>NaN</td>\n",
       "      <td>NaN</td>\n",
       "      <td>NaN</td>\n",
       "      <td>40</td>\n",
       "      <td>2</td>\n",
       "    </tr>\n",
       "    <tr>\n",
       "      <th>top</th>\n",
       "      <td>NaN</td>\n",
       "      <td>Private</td>\n",
       "      <td>NaN</td>\n",
       "      <td>HS-grad</td>\n",
       "      <td>NaN</td>\n",
       "      <td>Married-civ-spouse</td>\n",
       "      <td>Exec-managerial</td>\n",
       "      <td>Husband</td>\n",
       "      <td>White</td>\n",
       "      <td>Male</td>\n",
       "      <td>NaN</td>\n",
       "      <td>NaN</td>\n",
       "      <td>NaN</td>\n",
       "      <td>United-States</td>\n",
       "      <td>&gt;50K</td>\n",
       "    </tr>\n",
       "    <tr>\n",
       "      <th>freq</th>\n",
       "      <td>NaN</td>\n",
       "      <td>8437</td>\n",
       "      <td>NaN</td>\n",
       "      <td>3554</td>\n",
       "      <td>NaN</td>\n",
       "      <td>7484</td>\n",
       "      <td>2132</td>\n",
       "      <td>6602</td>\n",
       "      <td>10926</td>\n",
       "      <td>9116</td>\n",
       "      <td>NaN</td>\n",
       "      <td>NaN</td>\n",
       "      <td>NaN</td>\n",
       "      <td>11333</td>\n",
       "      <td>6281</td>\n",
       "    </tr>\n",
       "    <tr>\n",
       "      <th>mean</th>\n",
       "      <td>40.493105</td>\n",
       "      <td>NaN</td>\n",
       "      <td>1.881604e+05</td>\n",
       "      <td>NaN</td>\n",
       "      <td>10.593942</td>\n",
       "      <td>NaN</td>\n",
       "      <td>NaN</td>\n",
       "      <td>NaN</td>\n",
       "      <td>NaN</td>\n",
       "      <td>NaN</td>\n",
       "      <td>2088.514149</td>\n",
       "      <td>127.274851</td>\n",
       "      <td>42.068075</td>\n",
       "      <td>NaN</td>\n",
       "      <td>NaN</td>\n",
       "    </tr>\n",
       "    <tr>\n",
       "      <th>std</th>\n",
       "      <td>12.952965</td>\n",
       "      <td>NaN</td>\n",
       "      <td>1.041577e+05</td>\n",
       "      <td>NaN</td>\n",
       "      <td>2.612085</td>\n",
       "      <td>NaN</td>\n",
       "      <td>NaN</td>\n",
       "      <td>NaN</td>\n",
       "      <td>NaN</td>\n",
       "      <td>NaN</td>\n",
       "      <td>10501.221279</td>\n",
       "      <td>485.280796</td>\n",
       "      <td>12.182230</td>\n",
       "      <td>NaN</td>\n",
       "      <td>NaN</td>\n",
       "    </tr>\n",
       "    <tr>\n",
       "      <th>min</th>\n",
       "      <td>17.000000</td>\n",
       "      <td>NaN</td>\n",
       "      <td>1.487800e+04</td>\n",
       "      <td>NaN</td>\n",
       "      <td>1.000000</td>\n",
       "      <td>NaN</td>\n",
       "      <td>NaN</td>\n",
       "      <td>NaN</td>\n",
       "      <td>NaN</td>\n",
       "      <td>NaN</td>\n",
       "      <td>0.000000</td>\n",
       "      <td>0.000000</td>\n",
       "      <td>1.000000</td>\n",
       "      <td>NaN</td>\n",
       "      <td>NaN</td>\n",
       "    </tr>\n",
       "    <tr>\n",
       "      <th>25%</th>\n",
       "      <td>31.000000</td>\n",
       "      <td>NaN</td>\n",
       "      <td>1.176740e+05</td>\n",
       "      <td>NaN</td>\n",
       "      <td>9.000000</td>\n",
       "      <td>NaN</td>\n",
       "      <td>NaN</td>\n",
       "      <td>NaN</td>\n",
       "      <td>NaN</td>\n",
       "      <td>NaN</td>\n",
       "      <td>0.000000</td>\n",
       "      <td>0.000000</td>\n",
       "      <td>40.000000</td>\n",
       "      <td>NaN</td>\n",
       "      <td>NaN</td>\n",
       "    </tr>\n",
       "    <tr>\n",
       "      <th>50%</th>\n",
       "      <td>40.000000</td>\n",
       "      <td>NaN</td>\n",
       "      <td>1.769860e+05</td>\n",
       "      <td>NaN</td>\n",
       "      <td>10.000000</td>\n",
       "      <td>NaN</td>\n",
       "      <td>NaN</td>\n",
       "      <td>NaN</td>\n",
       "      <td>NaN</td>\n",
       "      <td>NaN</td>\n",
       "      <td>0.000000</td>\n",
       "      <td>0.000000</td>\n",
       "      <td>40.000000</td>\n",
       "      <td>NaN</td>\n",
       "      <td>NaN</td>\n",
       "    </tr>\n",
       "    <tr>\n",
       "      <th>75%</th>\n",
       "      <td>49.000000</td>\n",
       "      <td>NaN</td>\n",
       "      <td>2.340570e+05</td>\n",
       "      <td>NaN</td>\n",
       "      <td>13.000000</td>\n",
       "      <td>NaN</td>\n",
       "      <td>NaN</td>\n",
       "      <td>NaN</td>\n",
       "      <td>NaN</td>\n",
       "      <td>NaN</td>\n",
       "      <td>0.000000</td>\n",
       "      <td>0.000000</td>\n",
       "      <td>49.000000</td>\n",
       "      <td>NaN</td>\n",
       "      <td>NaN</td>\n",
       "    </tr>\n",
       "    <tr>\n",
       "      <th>max</th>\n",
       "      <td>90.000000</td>\n",
       "      <td>NaN</td>\n",
       "      <td>1.455435e+06</td>\n",
       "      <td>NaN</td>\n",
       "      <td>16.000000</td>\n",
       "      <td>NaN</td>\n",
       "      <td>NaN</td>\n",
       "      <td>NaN</td>\n",
       "      <td>NaN</td>\n",
       "      <td>NaN</td>\n",
       "      <td>99999.000000</td>\n",
       "      <td>4356.000000</td>\n",
       "      <td>99.000000</td>\n",
       "      <td>NaN</td>\n",
       "      <td>NaN</td>\n",
       "    </tr>\n",
       "  </tbody>\n",
       "</table>\n",
       "</div>"
      ],
      "text/plain": [
       "                 age workclass        fnlwgt education  education.num  \\\n",
       "count   12545.000000     11971  1.254500e+04     12545   12545.000000   \n",
       "unique           NaN         8           NaN        16            NaN   \n",
       "top              NaN   Private           NaN   HS-grad            NaN   \n",
       "freq             NaN      8437           NaN      3554            NaN   \n",
       "mean       40.493105       NaN  1.881604e+05       NaN      10.593942   \n",
       "std        12.952965       NaN  1.041577e+05       NaN       2.612085   \n",
       "min        17.000000       NaN  1.487800e+04       NaN       1.000000   \n",
       "25%        31.000000       NaN  1.176740e+05       NaN       9.000000   \n",
       "50%        40.000000       NaN  1.769860e+05       NaN      10.000000   \n",
       "75%        49.000000       NaN  2.340570e+05       NaN      13.000000   \n",
       "max        90.000000       NaN  1.455435e+06       NaN      16.000000   \n",
       "\n",
       "            marital.status       occupation relationship   race    sex  \\\n",
       "count                12545            11970        12545  12545  12545   \n",
       "unique                   7               14            6      5      2   \n",
       "top     Married-civ-spouse  Exec-managerial      Husband  White   Male   \n",
       "freq                  7484             2132         6602  10926   9116   \n",
       "mean                   NaN              NaN          NaN    NaN    NaN   \n",
       "std                    NaN              NaN          NaN    NaN    NaN   \n",
       "min                    NaN              NaN          NaN    NaN    NaN   \n",
       "25%                    NaN              NaN          NaN    NaN    NaN   \n",
       "50%                    NaN              NaN          NaN    NaN    NaN   \n",
       "75%                    NaN              NaN          NaN    NaN    NaN   \n",
       "max                    NaN              NaN          NaN    NaN    NaN   \n",
       "\n",
       "        capital.gain  capital.loss  hours.per.week native.country income  \n",
       "count   12545.000000  12545.000000    12545.000000          12333  12545  \n",
       "unique           NaN           NaN             NaN             40      2  \n",
       "top              NaN           NaN             NaN  United-States   >50K  \n",
       "freq             NaN           NaN             NaN          11333   6281  \n",
       "mean     2088.514149    127.274851       42.068075            NaN    NaN  \n",
       "std     10501.221279    485.280796       12.182230            NaN    NaN  \n",
       "min         0.000000      0.000000        1.000000            NaN    NaN  \n",
       "25%         0.000000      0.000000       40.000000            NaN    NaN  \n",
       "50%         0.000000      0.000000       40.000000            NaN    NaN  \n",
       "75%         0.000000      0.000000       49.000000            NaN    NaN  \n",
       "max     99999.000000   4356.000000       99.000000            NaN    NaN  "
      ]
     },
     "execution_count": 12,
     "metadata": {},
     "output_type": "execute_result"
    }
   ],
   "source": [
    "### show summary statistics of each feature\n",
    "train_df_nan.describe(include=\"all\")"
   ]
  },
  {
   "cell_type": "code",
   "execution_count": 7,
   "metadata": {},
   "outputs": [
    {
     "data": {
      "image/png": "[encoded data removed]",
      "text/plain": [
       "<Figure size 432x288 with 1 Axes>"
      ]
     },
     "metadata": {
      "needs_background": "light"
     },
     "output_type": "display_data"
    },
    {
     "data": {
      "image/png": "[encoded data removed]",
      "text/plain": [
       "<Figure size 432x288 with 1 Axes>"
      ]
     },
     "metadata": {
      "needs_background": "light"
     },
     "output_type": "display_data"
    },
    {
     "data": {
      "image/png": "[encoded data removed]",
      "text/plain": [
       "<Figure size 432x288 with 1 Axes>"
      ]
     },
     "metadata": {
      "needs_background": "light"
     },
     "output_type": "display_data"
    },
    {
     "data": {
      "image/png": "[encoded data removed]",
      "text/plain": [
       "<Figure size 432x288 with 1 Axes>"
      ]
     },
     "metadata": {
      "needs_background": "light"
     },
     "output_type": "display_data"
    },
    {
     "data": {
      "image/png": "[encoded data removed]",
      "text/plain": [
       "<Figure size 432x288 with 1 Axes>"
      ]
     },
     "metadata": {
      "needs_background": "light"
     },
     "output_type": "display_data"
    },
    {
     "data": {
      "image/png": "[encoded data removed]",
      "text/plain": [
       "<Figure size 432x288 with 1 Axes>"
      ]
     },
     "metadata": {
      "needs_background": "light"
     },
     "output_type": "display_data"
    }
   ],
   "source": [
    "### Visualize the histograms of numeric features using pandas plotting\n",
    "for feat in numeric_features:\n",
    "    ax = train_df_nan.groupby(\"income\")[feat].plot.hist(bins=30, alpha=0.4, legend=True)\n",
    "    plt.xlabel(feat)\n",
    "    plt.title(\"Histogram of \" + feat)\n",
    "    plt.show()\n"
   ]
  },
  {
   "cell_type": "code",
   "execution_count": 27,
   "metadata": {},
   "outputs": [
    {
     "data": {
      "application/vnd.vegalite.v4+json": {
       "$schema": "https://vega.github.io/schema/vega-lite/v4.8.1.json",
       "columns": 3,
       "config": {
        "view": {
         "continuousHeight": 300,
         "continuousWidth": 400
        }
       },
       "repeat": [
        "age",
        "fnlwgt",
        "education_num",
        "capital_gain",
        "capital_loss",
        "hours_per_week"
       ],
       "spec": {
        "data": {
         "url": "http://localhost:18054/9d8d8c409df5065a7f33ea291e861319.json"
        },
        "encoding": {
         "color": {
          "field": "income",
          "type": "nominal"
         },
         "x": {
          "bin": {
           "maxbins": 40
          },
          "field": {
           "repeat": "repeat"
          },
          "scale": {
           "zero": false
          },
          "type": "quantitative"
         },
         "y": {
          "aggregate": "count",
          "scale": {
           "zero": false
          },
          "stack": null,
          "type": "quantitative"
         }
        },
        "height": 200,
        "mark": {
         "interpolate": "step",
         "opacity": 0.5,
         "type": "area"
        },
        "width": 300
       }
      },
      "image/png": "[encoded data removed]",
      "text/plain": [
       "<VegaLite 4 object>\n",
       "\n",
       "If you see this message, it means the renderer has not been properly enabled\n",
       "for the frontend that you are using. For more information, see\n",
       "https://altair-viz.github.io/user_guide/troubleshooting.html\n"
      ]
     },
     "execution_count": 27,
     "metadata": {},
     "output_type": "execute_result"
    }
   ],
   "source": [
    "# Or Visualize using `altair`\n",
    "# train_df_nan.columns = ['age', 'workclass', 'fnlwgt', 'education', 'education_num',\n",
    "#        'marital_status', 'occupation', 'relationship', 'race', 'sex',\n",
    "#        'capital_gain', 'capital_loss', 'hours_per_week', 'native_country',\n",
    "#        'income']\n",
    "# numeric_features = train_df_nan.select_dtypes(include=\"number\").columns.to_list()\n",
    "# (\n",
    "#     alt.Chart(train_df_nan)\n",
    "#         .mark_area(opacity=0.5, interpolate='step')\n",
    "#         .encode(\n",
    "#             x=alt.X(alt.repeat(\"repeat\"), type=\"quantitative\", bin=alt.Bin(maxbins=40), scale=alt.Scale(zero=False)),\n",
    "#             y=alt.Y(\"count()\", type=\"quantitative\", scale=alt.Scale(zero=False), stack=None),\n",
    "#             color='income')\n",
    "#         .properties(width=300, height=200)\n",
    "#         .repeat(repeat=numeric_features, columns=3)\n",
    "# )"
   ]
  },
  {
   "cell_type": "markdown",
   "metadata": {},
   "source": [
    "The features `age`, `education.num`, `capital.gain` and `hours.per.week` seem to be relevant to our target `income`."
   ]
  },
  {
   "cell_type": "markdown",
   "metadata": {},
   "source": [
    "### 2.3 Separating feature vectors and targets  \n",
    "\n",
    "1. Create `X_train`, `y_train`, `X_test`, `y_test` from `train_df_nan` and `test_df_nan`. "
   ]
  },
  {
   "cell_type": "code",
   "execution_count": 43,
   "metadata": {},
   "outputs": [],
   "source": [
    "X_train, y_train = train_df_nan.drop(columns=[\"income\"]), train_df_nan[\"income\"]\n",
    "X_test, y_test = test_df_nan.drop(columns=[\"income\"]), test_df_nan[\"income\"]"
   ]
  },
  {
   "cell_type": "markdown",
   "metadata": {},
   "source": [
    "## 3: Preprocessing <a name=\"3\"></a>\n",
    "<hr>"
   ]
  },
  {
   "cell_type": "markdown",
   "metadata": {},
   "source": [
    "- Before we train [`sklearn`'s `SVC`](https://scikit-learn.org/stable/modules/generated/sklearn.svm.SVC.html) model on `X_train` and `y_train`, the categorical features in `X_train` should be transformed to numeric ones such that they can be used to calculate distance between feature vectors.\n",
    "\n",
    "In this step, we'll be wrangling the dataset so that it's suitable to be used with `scikit-learn` classifiers. "
   ]
  },
  {
   "cell_type": "markdown",
   "metadata": {},
   "source": [
    "### 3.1 Identifying transformations that need to be applied\n",
    "\n",
    "Identify the columns on which transformations need to be applied and determine what transformation we would apply in what order, as shown in the table."
   ]
  },
  {
   "cell_type": "markdown",
   "metadata": {},
   "source": [
    "### Feature Transformation Table\n",
    "| Feature | Transformation |\n",
    "| --- | ----------- |\n",
    "| age | imputation, scaling |\n",
    "| workclass | imputation, One-hot encoding |\n",
    "| fnlwgt | imputation, scaling |\n",
    "| education | imputation, One-hot encoding |\n",
    "| education.num | imputation, scaling |\n",
    "| marital.status | imputation, One-hot encoding |\n",
    "| occupation | imputation, One-hot encoding |\n",
    "| relationship | imputation, One-hot encoding |\n",
    "| race | imputation, One-hot encoding |\n",
    "| sex | imputation, One-hot encoding |\n",
    "| capital.gain | imputation, scaling |\n",
    "| capital.loss | imputation, scaling |\n",
    "| hours.per.week | imputation, scaling |\n",
    "| native.country | imputation, One-hot encoding |"
   ]
  },
  {
   "cell_type": "markdown",
   "metadata": {},
   "source": [
    "### The feature(s) that don't need to be transformed\n",
    "\n",
    "Actually we don't need to apply transformations on the column `education` since it plays the same role as the column `education.num` that could be considered as the transformed feature of `education`."
   ]
  },
  {
   "cell_type": "markdown",
   "metadata": {
    "slideshow": {
     "slide_type": "slide"
    }
   },
   "source": [
    "### 3.2 Imputing missing values **without** `sklearn.pipeline.Pipeline`\n",
    "\n",
    "In this step, we'll be imputing missing values **without using `scikit-learn` pipelines**. The goal here is two-fold. First, to understand what happens under the hood when you use `scikit-learn` `Pipelines`, and second, to convince yourself why it's a good idea to use pipelines.  \n",
    "\n",
    "1. For numeric features, use [`scikit-learn`'s `SimpleImputer`](https://scikit-learn.org/stable/modules/generated/sklearn.impute.SimpleImputer.html) to impute `NaN` values with `strategy=\"median\"`. Remember to apply the transformations on both the train and test splits.  \n",
    "2. For categorical features, use [`scikit-learn`'s `SimpleImputer`](https://scikit-learn.org/stable/modules/generated/sklearn.impute.SimpleImputer.html) to impute `NaN` values by a constant string \"missing\". Remember to apply the transformations on both the train and test splits.\n",
    "3. Show train split of categorical features in a dataframe after transforming the missing values. "
   ]
  },
  {
   "cell_type": "code",
   "execution_count": 44,
   "metadata": {
    "slideshow": {
     "slide_type": "slide"
    }
   },
   "outputs": [],
   "source": [
    "### 3.2.1\n",
    "numeric_imputer = SimpleImputer(strategy=\"median\")\n",
    "numeric_imputer.fit(X_train[numeric_features])\n",
    "X_train_numeric_imp = numeric_imputer.transform(X_train[numeric_features])\n",
    "X_test_numeric_imp = numeric_imputer.transform(X_test[numeric_features])"
   ]
  },
  {
   "cell_type": "code",
   "execution_count": 45,
   "metadata": {},
   "outputs": [],
   "source": [
    "### 3.2.2\n",
    "categorical_imputer = SimpleImputer(strategy=\"constant\", fill_value=\"missing\")\n",
    "categorical_imputer.fit(X_train[categorical_features])\n",
    "X_train_categorical_imp = categorical_imputer.transform(X_train[categorical_features])\n",
    "X_test_categorical_imp = categorical_imputer.transform(X_test[categorical_features])"
   ]
  },
  {
   "cell_type": "code",
   "execution_count": 46,
   "metadata": {},
   "outputs": [
    {
     "data": {
      "text/html": [
       "<div>\n",
       "<style scoped>\n",
       "    .dataframe tbody tr th:only-of-type {\n",
       "        vertical-align: middle;\n",
       "    }\n",
       "\n",
       "    .dataframe tbody tr th {\n",
       "        vertical-align: top;\n",
       "    }\n",
       "\n",
       "    .dataframe thead th {\n",
       "        text-align: right;\n",
       "    }\n",
       "</style>\n",
       "<table border=\"1\" class=\"dataframe\">\n",
       "  <thead>\n",
       "    <tr style=\"text-align: right;\">\n",
       "      <th></th>\n",
       "      <th>workclass</th>\n",
       "      <th>education</th>\n",
       "      <th>marital.status</th>\n",
       "      <th>occupation</th>\n",
       "      <th>relationship</th>\n",
       "      <th>race</th>\n",
       "      <th>sex</th>\n",
       "      <th>native.country</th>\n",
       "    </tr>\n",
       "  </thead>\n",
       "  <tbody>\n",
       "    <tr>\n",
       "      <th>17825</th>\n",
       "      <td>Private</td>\n",
       "      <td>HS-grad</td>\n",
       "      <td>Married-civ-spouse</td>\n",
       "      <td>Machine-op-inspct</td>\n",
       "      <td>Husband</td>\n",
       "      <td>White</td>\n",
       "      <td>Male</td>\n",
       "      <td>United-States</td>\n",
       "    </tr>\n",
       "    <tr>\n",
       "      <th>2444</th>\n",
       "      <td>Federal-gov</td>\n",
       "      <td>Bachelors</td>\n",
       "      <td>Married-civ-spouse</td>\n",
       "      <td>Sales</td>\n",
       "      <td>Husband</td>\n",
       "      <td>White</td>\n",
       "      <td>Male</td>\n",
       "      <td>United-States</td>\n",
       "    </tr>\n",
       "    <tr>\n",
       "      <th>2039</th>\n",
       "      <td>Local-gov</td>\n",
       "      <td>Bachelors</td>\n",
       "      <td>Married-civ-spouse</td>\n",
       "      <td>Protective-serv</td>\n",
       "      <td>Husband</td>\n",
       "      <td>White</td>\n",
       "      <td>Male</td>\n",
       "      <td>United-States</td>\n",
       "    </tr>\n",
       "    <tr>\n",
       "      <th>7529</th>\n",
       "      <td>Self-emp-inc</td>\n",
       "      <td>Masters</td>\n",
       "      <td>Married-civ-spouse</td>\n",
       "      <td>Exec-managerial</td>\n",
       "      <td>Husband</td>\n",
       "      <td>White</td>\n",
       "      <td>Male</td>\n",
       "      <td>United-States</td>\n",
       "    </tr>\n",
       "    <tr>\n",
       "      <th>22427</th>\n",
       "      <td>Private</td>\n",
       "      <td>HS-grad</td>\n",
       "      <td>Married-civ-spouse</td>\n",
       "      <td>Craft-repair</td>\n",
       "      <td>Husband</td>\n",
       "      <td>White</td>\n",
       "      <td>Male</td>\n",
       "      <td>United-States</td>\n",
       "    </tr>\n",
       "    <tr>\n",
       "      <th>...</th>\n",
       "      <td>...</td>\n",
       "      <td>...</td>\n",
       "      <td>...</td>\n",
       "      <td>...</td>\n",
       "      <td>...</td>\n",
       "      <td>...</td>\n",
       "      <td>...</td>\n",
       "      <td>...</td>\n",
       "    </tr>\n",
       "    <tr>\n",
       "      <th>18851</th>\n",
       "      <td>Private</td>\n",
       "      <td>Bachelors</td>\n",
       "      <td>Married-civ-spouse</td>\n",
       "      <td>Transport-moving</td>\n",
       "      <td>Husband</td>\n",
       "      <td>White</td>\n",
       "      <td>Male</td>\n",
       "      <td>United-States</td>\n",
       "    </tr>\n",
       "    <tr>\n",
       "      <th>24544</th>\n",
       "      <td>State-gov</td>\n",
       "      <td>Bachelors</td>\n",
       "      <td>Divorced</td>\n",
       "      <td>Exec-managerial</td>\n",
       "      <td>Not-in-family</td>\n",
       "      <td>Asian-Pac-Islander</td>\n",
       "      <td>Female</td>\n",
       "      <td>United-States</td>\n",
       "    </tr>\n",
       "    <tr>\n",
       "      <th>2100</th>\n",
       "      <td>Private</td>\n",
       "      <td>HS-grad</td>\n",
       "      <td>Married-civ-spouse</td>\n",
       "      <td>Sales</td>\n",
       "      <td>Husband</td>\n",
       "      <td>White</td>\n",
       "      <td>Male</td>\n",
       "      <td>United-States</td>\n",
       "    </tr>\n",
       "    <tr>\n",
       "      <th>17084</th>\n",
       "      <td>Private</td>\n",
       "      <td>HS-grad</td>\n",
       "      <td>Divorced</td>\n",
       "      <td>Other-service</td>\n",
       "      <td>Unmarried</td>\n",
       "      <td>White</td>\n",
       "      <td>Female</td>\n",
       "      <td>United-States</td>\n",
       "    </tr>\n",
       "    <tr>\n",
       "      <th>10168</th>\n",
       "      <td>missing</td>\n",
       "      <td>Some-college</td>\n",
       "      <td>Married-civ-spouse</td>\n",
       "      <td>missing</td>\n",
       "      <td>Husband</td>\n",
       "      <td>White</td>\n",
       "      <td>Male</td>\n",
       "      <td>United-States</td>\n",
       "    </tr>\n",
       "  </tbody>\n",
       "</table>\n",
       "<p>12545 rows × 8 columns</p>\n",
       "</div>"
      ],
      "text/plain": [
       "          workclass     education      marital.status         occupation  \\\n",
       "17825       Private       HS-grad  Married-civ-spouse  Machine-op-inspct   \n",
       "2444    Federal-gov     Bachelors  Married-civ-spouse              Sales   \n",
       "2039      Local-gov     Bachelors  Married-civ-spouse    Protective-serv   \n",
       "7529   Self-emp-inc       Masters  Married-civ-spouse    Exec-managerial   \n",
       "22427       Private       HS-grad  Married-civ-spouse       Craft-repair   \n",
       "...             ...           ...                 ...                ...   \n",
       "18851       Private     Bachelors  Married-civ-spouse   Transport-moving   \n",
       "24544     State-gov     Bachelors            Divorced    Exec-managerial   \n",
       "2100        Private       HS-grad  Married-civ-spouse              Sales   \n",
       "17084       Private       HS-grad            Divorced      Other-service   \n",
       "10168       missing  Some-college  Married-civ-spouse            missing   \n",
       "\n",
       "        relationship                race     sex native.country  \n",
       "17825        Husband               White    Male  United-States  \n",
       "2444         Husband               White    Male  United-States  \n",
       "2039         Husband               White    Male  United-States  \n",
       "7529         Husband               White    Male  United-States  \n",
       "22427        Husband               White    Male  United-States  \n",
       "...              ...                 ...     ...            ...  \n",
       "18851        Husband               White    Male  United-States  \n",
       "24544  Not-in-family  Asian-Pac-Islander  Female  United-States  \n",
       "2100         Husband               White    Male  United-States  \n",
       "17084      Unmarried               White  Female  United-States  \n",
       "10168        Husband               White    Male  United-States  \n",
       "\n",
       "[12545 rows x 8 columns]"
      ]
     },
     "execution_count": 46,
     "metadata": {},
     "output_type": "execute_result"
    }
   ],
   "source": [
    "### 3.2.3\n",
    "pd.DataFrame(X_train_categorical_imp, columns=categorical_features, index=X_train.index)"
   ]
  },
  {
   "cell_type": "markdown",
   "metadata": {},
   "source": [
    "- It shows two missing values in the last row"
   ]
  },
  {
   "cell_type": "markdown",
   "metadata": {},
   "source": [
    "### 3.3 One-hot encoding **without** `sklearn.pipeline.Pipeline`\n",
    "\n",
    "1. Apply one-hot encoding to the categorical features of imputed `X_train` and `X_test` from 3.2 using [`scikit-learn`'s `OneHotEncoder`](https://scikit-learn.org/stable/modules/generated/sklearn.preprocessing.OneHotEncoder.html) and show the new columns created using the `categories_` attribute of the `OneHotEncoder` object.\n",
    "2. Create preprocessed train and test splits, `X_train_pp` and `X_test_pp`, by horizontally stacking transformed numeric columns from 3.2 and transformed categorical columns with imputation and OHE applied. \n",
    "3. Display the shape of `X_train_pp` and `X_test_pp`"
   ]
  },
  {
   "cell_type": "code",
   "execution_count": 47,
   "metadata": {},
   "outputs": [
    {
     "data": {
      "text/plain": [
       "[array(['Federal-gov', 'Local-gov', 'Never-worked', 'Private',\n",
       "        'Self-emp-inc', 'Self-emp-not-inc', 'State-gov', 'Without-pay',\n",
       "        'missing'], dtype=object),\n",
       " array(['10th', '11th', '12th', '1st-4th', '5th-6th', '7th-8th', '9th',\n",
       "        'Assoc-acdm', 'Assoc-voc', 'Bachelors', 'Doctorate', 'HS-grad',\n",
       "        'Masters', 'Preschool', 'Prof-school', 'Some-college'],\n",
       "       dtype=object),\n",
       " array(['Divorced', 'Married-AF-spouse', 'Married-civ-spouse',\n",
       "        'Married-spouse-absent', 'Never-married', 'Separated', 'Widowed'],\n",
       "       dtype=object),\n",
       " array(['Adm-clerical', 'Armed-Forces', 'Craft-repair', 'Exec-managerial',\n",
       "        'Farming-fishing', 'Handlers-cleaners', 'Machine-op-inspct',\n",
       "        'Other-service', 'Priv-house-serv', 'Prof-specialty',\n",
       "        'Protective-serv', 'Sales', 'Tech-support', 'Transport-moving',\n",
       "        'missing'], dtype=object),\n",
       " array(['Husband', 'Not-in-family', 'Other-relative', 'Own-child',\n",
       "        'Unmarried', 'Wife'], dtype=object),\n",
       " array(['Amer-Indian-Eskimo', 'Asian-Pac-Islander', 'Black', 'Other',\n",
       "        'White'], dtype=object),\n",
       " array(['Female', 'Male'], dtype=object),\n",
       " array(['Cambodia', 'Canada', 'China', 'Columbia', 'Cuba',\n",
       "        'Dominican-Republic', 'Ecuador', 'El-Salvador', 'England',\n",
       "        'France', 'Germany', 'Greece', 'Guatemala', 'Haiti', 'Honduras',\n",
       "        'Hong', 'Hungary', 'India', 'Iran', 'Ireland', 'Italy', 'Jamaica',\n",
       "        'Japan', 'Laos', 'Mexico', 'Nicaragua',\n",
       "        'Outlying-US(Guam-USVI-etc)', 'Peru', 'Philippines', 'Poland',\n",
       "        'Portugal', 'Puerto-Rico', 'Scotland', 'South', 'Taiwan',\n",
       "        'Thailand', 'Trinadad&Tobago', 'United-States', 'Vietnam',\n",
       "        'Yugoslavia', 'missing'], dtype=object)]"
      ]
     },
     "execution_count": 47,
     "metadata": {},
     "output_type": "execute_result"
    }
   ],
   "source": [
    "ohe = OneHotEncoder(handle_unknown=\"ignore\", sparse=False, dtype=\"int\")\n",
    "X_train_categorical_imp_ohe = ohe.fit_transform(X_train_categorical_imp)\n",
    "X_test_categorical_imp_ohe = ohe.transform(X_test_categorical_imp)\n",
    "ohe.categories_"
   ]
  },
  {
   "cell_type": "code",
   "execution_count": 48,
   "metadata": {},
   "outputs": [],
   "source": [
    "X_train_pp = np.hstack((X_train_numeric_imp, X_train_categorical_imp_ohe))\n",
    "X_test_pp = np.hstack((X_test_numeric_imp, X_test_categorical_imp_ohe))"
   ]
  },
  {
   "cell_type": "code",
   "execution_count": 49,
   "metadata": {},
   "outputs": [
    {
     "name": "stdout",
     "output_type": "stream",
     "text": [
      "The shape of X_train_pp is (12545, 107)\n",
      "The shape of X_test_pp is (3137, 107)\n"
     ]
    }
   ],
   "source": [
    "print(f\"The shape of X_train_pp is {X_train_pp.shape}\")\n",
    "print(f\"The shape of X_test_pp is {X_test_pp.shape}\")"
   ]
  },
  {
   "cell_type": "markdown",
   "metadata": {},
   "source": [
    "- Note: We cannot carry out cross validation using `cross_validate` on the preprocessed `X_train_pp` and `y_train`, for example, using the [KNeighborsClassifier](https://scikit-learn.org/stable/modules/generated/sklearn.neighbors.KNeighborsClassifier.html?highlight=kneighborsclassifier#sklearn.neighbors.KNeighborsClassifier) as below, since we are violating the golden rule. All the rows in the preprocessed `X_train_pp` were transformed by the numeric imputer with median strategy. When we call `cross_validate` on the `X_train_pp`, the rows from validation split in each fold have been used to calculate the median, influencing the training step of knn model."
   ]
  },
  {
   "cell_type": "code",
   "execution_count": 18,
   "metadata": {},
   "outputs": [
    {
     "data": {
      "text/html": [
       "<div>\n",
       "<style scoped>\n",
       "    .dataframe tbody tr th:only-of-type {\n",
       "        vertical-align: middle;\n",
       "    }\n",
       "\n",
       "    .dataframe tbody tr th {\n",
       "        vertical-align: top;\n",
       "    }\n",
       "\n",
       "    .dataframe thead th {\n",
       "        text-align: right;\n",
       "    }\n",
       "</style>\n",
       "<table border=\"1\" class=\"dataframe\">\n",
       "  <thead>\n",
       "    <tr style=\"text-align: right;\">\n",
       "      <th></th>\n",
       "      <th>fit_time</th>\n",
       "      <th>score_time</th>\n",
       "      <th>test_score</th>\n",
       "      <th>train_score</th>\n",
       "    </tr>\n",
       "  </thead>\n",
       "  <tbody>\n",
       "    <tr>\n",
       "      <th>0</th>\n",
       "      <td>0.283032</td>\n",
       "      <td>0.164966</td>\n",
       "      <td>0.609406</td>\n",
       "      <td>0.741530</td>\n",
       "    </tr>\n",
       "    <tr>\n",
       "      <th>1</th>\n",
       "      <td>0.265625</td>\n",
       "      <td>0.171877</td>\n",
       "      <td>0.592268</td>\n",
       "      <td>0.745018</td>\n",
       "    </tr>\n",
       "    <tr>\n",
       "      <th>2</th>\n",
       "      <td>0.273998</td>\n",
       "      <td>0.189000</td>\n",
       "      <td>0.591869</td>\n",
       "      <td>0.743025</td>\n",
       "    </tr>\n",
       "    <tr>\n",
       "      <th>3</th>\n",
       "      <td>0.265625</td>\n",
       "      <td>0.171876</td>\n",
       "      <td>0.599841</td>\n",
       "      <td>0.743922</td>\n",
       "    </tr>\n",
       "    <tr>\n",
       "      <th>4</th>\n",
       "      <td>0.271000</td>\n",
       "      <td>0.167001</td>\n",
       "      <td>0.598246</td>\n",
       "      <td>0.741331</td>\n",
       "    </tr>\n",
       "  </tbody>\n",
       "</table>\n",
       "</div>"
      ],
      "text/plain": [
       "   fit_time  score_time  test_score  train_score\n",
       "0  0.283032    0.164966    0.609406     0.741530\n",
       "1  0.265625    0.171877    0.592268     0.745018\n",
       "2  0.273998    0.189000    0.591869     0.743025\n",
       "3  0.265625    0.171876    0.599841     0.743922\n",
       "4  0.271000    0.167001    0.598246     0.741331"
      ]
     },
     "execution_count": 18,
     "metadata": {},
     "output_type": "execute_result"
    }
   ],
   "source": [
    "knn = KNeighborsClassifier()\n",
    "scores = cross_validate(knn, X_train_pp, y_train, return_train_score=True)\n",
    "pd.DataFrame(scores)"
   ]
  },
  {
   "cell_type": "markdown",
   "metadata": {},
   "source": [
    "### 3.4 Using `sklearn.pipeline.Pipeline`\n",
    "\n",
    "As noted in 3.2 and 3.3, when we want to apply a series of transformations, the code becomes unwieldy quite quickly. We can do this much more elegantly using [`scikit-learn` pipelines](https://scikit-learn.org/stable/modules/generated/sklearn.pipeline.Pipeline.html).   \n",
    "\n",
    "Let's carry out preprocessing using pipelines now. Note that you can define pipelines in two ways: by using [`Pipeline`](https://scikit-learn.org/stable/modules/generated/sklearn.pipeline.Pipeline.html) and providing named steps or by using [`make_pipeline`](https://scikit-learn.org/stable/modules/generated/sklearn.pipeline.make_pipeline.html#sklearn.pipeline.make_pipeline) which allows for simplified pipeline construction. In the latter case, the names of the steps will be set to the lowercase of their types automatically. You may use the method of your choice.  \n",
    "\n",
    "\n",
    "1. Define a `Pipeline` for numerical features with two steps: \n",
    "    - [`SimpleImputer()`](https://scikit-learn.org/stable/modules/generated/sklearn.impute.SimpleImputer.html) with `strategy = \"median\"` \n",
    "    - [`StandardScaler()`](https://scikit-learn.org/stable/modules/generated/sklearn.preprocessing.StandardScaler.html)\n",
    "2. Define a `Pipeline` for categorical features with two steps: \n",
    "    - [`SimpleImputer()`](https://scikit-learn.org/stable/modules/generated/sklearn.impute.SimpleImputer.html) with `strategy = \"constant\"`\n",
    "    - [`OneHotEncoder`](https://scikit-learn.org/stable/modules/generated/sklearn.preprocessing.OneHotEncoder.html) with `handle_unknown=\"ignore\"`\n",
    "\n",
    "3. Define a [`ColumnTransformer`](https://scikit-learn.org/stable/modules/generated/sklearn.compose.ColumnTransformer.html) called `preprocessor` for the numerical, categorical, and remainder features.\n",
    "4. Fit the `preprocessor` on `X_train` and `y_train`.\n",
    "5. Examine the new features created by the `OneHotEncoder`."
   ]
  },
  {
   "cell_type": "code",
   "execution_count": 50,
   "metadata": {
    "slideshow": {
     "slide_type": "slide"
    }
   },
   "outputs": [
    {
     "data": {
      "text/plain": [
       "ColumnTransformer(transformers=[('num',\n",
       "                                 Pipeline(steps=[('simpleimputer',\n",
       "                                                  SimpleImputer(strategy='median')),\n",
       "                                                 ('standardscaler',\n",
       "                                                  StandardScaler())]),\n",
       "                                 ['age', 'fnlwgt', 'education.num',\n",
       "                                  'capital.gain', 'capital.loss',\n",
       "                                  'hours.per.week']),\n",
       "                                ('cat',\n",
       "                                 Pipeline(steps=[('simpleimputer',\n",
       "                                                  SimpleImputer(fill_value='missing',\n",
       "                                                                strategy='constant')),\n",
       "                                                 ('onehotencoder',\n",
       "                                                  OneHotEncoder(handle_unknown='ignore'))]),\n",
       "                                 ['workclass', 'education', 'marital.status',\n",
       "                                  'occupation', 'relationship', 'race', 'sex',\n",
       "                                  'native.country'])])"
      ]
     },
     "execution_count": 50,
     "metadata": {},
     "output_type": "execute_result"
    }
   ],
   "source": [
    "### Pipeline\n",
    "numeric_transformer = make_pipeline(\n",
    "    SimpleImputer(strategy=\"median\"),\n",
    "    StandardScaler()\n",
    ")\n",
    "\n",
    "categorical_transformer = make_pipeline(\n",
    "    SimpleImputer(strategy=\"constant\", fill_value=\"missing\"),\n",
    "    OneHotEncoder(handle_unknown=\"ignore\")\n",
    ")\n",
    "\n",
    "preprocessor = ColumnTransformer(\n",
    "    transformers=[\n",
    "        (\"num\", numeric_transformer, numeric_features),\n",
    "        (\"cat\", categorical_transformer, categorical_features)\n",
    "    ]\n",
    ")\n",
    "preprocessor.fit(X_train, y_train)"
   ]
  },
  {
   "cell_type": "code",
   "execution_count": 20,
   "metadata": {},
   "outputs": [
    {
     "data": {
      "text/plain": [
       "array(['workclass_Federal-gov', 'workclass_Local-gov',\n",
       "       'workclass_Never-worked', 'workclass_Private',\n",
       "       'workclass_Self-emp-inc', 'workclass_Self-emp-not-inc',\n",
       "       'workclass_State-gov', 'workclass_Without-pay',\n",
       "       'workclass_missing', 'education_10th', 'education_11th',\n",
       "       'education_12th', 'education_1st-4th', 'education_5th-6th',\n",
       "       'education_7th-8th', 'education_9th', 'education_Assoc-acdm',\n",
       "       'education_Assoc-voc', 'education_Bachelors',\n",
       "       'education_Doctorate', 'education_HS-grad', 'education_Masters',\n",
       "       'education_Preschool', 'education_Prof-school',\n",
       "       'education_Some-college', 'marital.status_Divorced',\n",
       "       'marital.status_Married-AF-spouse',\n",
       "       'marital.status_Married-civ-spouse',\n",
       "       'marital.status_Married-spouse-absent',\n",
       "       'marital.status_Never-married', 'marital.status_Separated',\n",
       "       'marital.status_Widowed', 'occupation_Adm-clerical',\n",
       "       'occupation_Armed-Forces', 'occupation_Craft-repair',\n",
       "       'occupation_Exec-managerial', 'occupation_Farming-fishing',\n",
       "       'occupation_Handlers-cleaners', 'occupation_Machine-op-inspct',\n",
       "       'occupation_Other-service', 'occupation_Priv-house-serv',\n",
       "       'occupation_Prof-specialty', 'occupation_Protective-serv',\n",
       "       'occupation_Sales', 'occupation_Tech-support',\n",
       "       'occupation_Transport-moving', 'occupation_missing',\n",
       "       'relationship_Husband', 'relationship_Not-in-family',\n",
       "       'relationship_Other-relative', 'relationship_Own-child',\n",
       "       'relationship_Unmarried', 'relationship_Wife',\n",
       "       'race_Amer-Indian-Eskimo', 'race_Asian-Pac-Islander', 'race_Black',\n",
       "       'race_Other', 'race_White', 'sex_Female', 'sex_Male',\n",
       "       'native.country_Cambodia', 'native.country_Canada',\n",
       "       'native.country_China', 'native.country_Columbia',\n",
       "       'native.country_Cuba', 'native.country_Dominican-Republic',\n",
       "       'native.country_Ecuador', 'native.country_El-Salvador',\n",
       "       'native.country_England', 'native.country_France',\n",
       "       'native.country_Germany', 'native.country_Greece',\n",
       "       'native.country_Guatemala', 'native.country_Haiti',\n",
       "       'native.country_Honduras', 'native.country_Hong',\n",
       "       'native.country_Hungary', 'native.country_India',\n",
       "       'native.country_Iran', 'native.country_Ireland',\n",
       "       'native.country_Italy', 'native.country_Jamaica',\n",
       "       'native.country_Japan', 'native.country_Laos',\n",
       "       'native.country_Mexico', 'native.country_Nicaragua',\n",
       "       'native.country_Outlying-US(Guam-USVI-etc)', 'native.country_Peru',\n",
       "       'native.country_Philippines', 'native.country_Poland',\n",
       "       'native.country_Portugal', 'native.country_Puerto-Rico',\n",
       "       'native.country_Scotland', 'native.country_South',\n",
       "       'native.country_Taiwan', 'native.country_Thailand',\n",
       "       'native.country_Trinadad&Tobago', 'native.country_United-States',\n",
       "       'native.country_Vietnam', 'native.country_Yugoslavia',\n",
       "       'native.country_missing'], dtype=object)"
      ]
     },
     "execution_count": 20,
     "metadata": {},
     "output_type": "execute_result"
    }
   ],
   "source": [
    "preprocessor.named_transformers_[\"cat\"].named_steps[\"onehotencoder\"].get_feature_names(categorical_features)\n",
    "\n",
    "# By eyeballing it, there are 5 new features created for the categorical feature `marital.status`"
   ]
  },
  {
   "cell_type": "markdown",
   "metadata": {
    "slideshow": {
     "slide_type": "slide"
    }
   },
   "source": [
    "## 4: Building models <a name=\"4\"></a>\n",
    "<hr>\n",
    "\n",
    "Now that we have preprocessed features, we are ready to build models. "
   ]
  },
  {
   "cell_type": "code",
   "execution_count": 21,
   "metadata": {
    "slideshow": {
     "slide_type": "slide"
    }
   },
   "outputs": [],
   "source": [
    "# Lets create an empty dictionary to store all the results\n",
    "results_dict = {}"
   ]
  },
  {
   "cell_type": "code",
   "execution_count": 22,
   "metadata": {},
   "outputs": [],
   "source": [
    "# Use this support function to keep your results organized\n",
    "def store_cross_val_results(model_name, scores, results_dict):\n",
    "    \"\"\"\n",
    "    Stores mean scores from cross_validate in results_dict for\n",
    "    the given model model_name.\n",
    "\n",
    "    Parameters\n",
    "    ----------\n",
    "    model_name :\n",
    "        scikit-learn classification model\n",
    "    scores : dict\n",
    "        object return by `cross_validate`\n",
    "    results_dict: dict\n",
    "        dictionary to store results\n",
    "\n",
    "    Returns\n",
    "    ----------\n",
    "        None\n",
    "\n",
    "    \"\"\"\n",
    "    results_dict[model_name] = {\n",
    "        \"mean_train_accuracy\": \"{:0.4f}\".format(np.mean(scores[\"train_score\"])),\n",
    "        \"mean_validation_accuracy\": \"{:0.4f}\".format(np.mean(scores[\"test_score\"])),\n",
    "        \"mean_fit_time (s)\": \"{:0.4f}\".format(np.mean(scores[\"fit_time\"])),\n",
    "        \"mean_score_time (s)\": \"{:0.4f}\".format(np.mean(scores[\"score_time\"])),\n",
    "        \"std_train_score\": \"{:0.4f}\".format(scores[\"train_score\"].std()),\n",
    "        \"std_test_score\": \"{:0.4f}\".format(scores[\"test_score\"].std()),\n",
    "    }\n"
   ]
  },
  {
   "cell_type": "markdown",
   "metadata": {
    "slideshow": {
     "slide_type": "slide"
    }
   },
   "source": [
    "### 4.1 Building a baseline model \n",
    "\n",
    "1. Define a pipeline with two steps: preprocessor from 3.4 and `scikit-learn`'s `DummyClassifier` with `strategy=\"prior\"` as your classifier.  \n",
    "2. Carry out 5-fold cross validation with the pipeline. Store the results in `results_dict` above."
   ]
  },
  {
   "cell_type": "code",
   "execution_count": 23,
   "metadata": {
    "slideshow": {
     "slide_type": "slide"
    }
   },
   "outputs": [
    {
     "data": {
      "text/html": [
       "<div>\n",
       "<style scoped>\n",
       "    .dataframe tbody tr th:only-of-type {\n",
       "        vertical-align: middle;\n",
       "    }\n",
       "\n",
       "    .dataframe tbody tr th {\n",
       "        vertical-align: top;\n",
       "    }\n",
       "\n",
       "    .dataframe thead th {\n",
       "        text-align: right;\n",
       "    }\n",
       "</style>\n",
       "<table border=\"1\" class=\"dataframe\">\n",
       "  <thead>\n",
       "    <tr style=\"text-align: right;\">\n",
       "      <th></th>\n",
       "      <th>mean_fit_time (s)</th>\n",
       "      <th>mean_score_time (s)</th>\n",
       "      <th>mean_train_accuracy</th>\n",
       "      <th>mean_validation_accuracy</th>\n",
       "      <th>std_test_score</th>\n",
       "      <th>std_train_score</th>\n",
       "    </tr>\n",
       "  </thead>\n",
       "  <tbody>\n",
       "    <tr>\n",
       "      <th>dummy</th>\n",
       "      <td>0.0412</td>\n",
       "      <td>0.0137</td>\n",
       "      <td>0.5007</td>\n",
       "      <td>0.5007</td>\n",
       "      <td>0.0002</td>\n",
       "      <td>0.0000</td>\n",
       "    </tr>\n",
       "  </tbody>\n",
       "</table>\n",
       "</div>"
      ],
      "text/plain": [
       "      mean_fit_time (s) mean_score_time (s) mean_train_accuracy  \\\n",
       "dummy            0.0412              0.0137              0.5007   \n",
       "\n",
       "      mean_validation_accuracy std_test_score std_train_score  \n",
       "dummy                   0.5007         0.0002          0.0000  "
      ]
     },
     "execution_count": 23,
     "metadata": {},
     "output_type": "execute_result"
    }
   ],
   "source": [
    "pipe = Pipeline(\n",
    "    steps=[\n",
    "        (\"preprocessor\", preprocessor),\n",
    "        (\"dc\", DummyClassifier(strategy=\"prior\"))\n",
    "    ]\n",
    ")\n",
    "\n",
    "scores = cross_validate(pipe, X_train, y_train, cv=5, return_train_score=True)\n",
    "store_cross_val_results(\"dummy\", scores, results_dict)\n",
    "pd.DataFrame(results_dict).T  # .T transpose the index and columns of the df"
   ]
  },
  {
   "cell_type": "markdown",
   "metadata": {
    "slideshow": {
     "slide_type": "slide"
    }
   },
   "source": [
    "### 4.2 Trying different classifiers\n",
    "\n",
    "1. For each of the models in the starter code below: \n",
    "    - Define a pipeline with two steps: preprocessor from 3.4 and the model as your classifier.  \n",
    "    - Carry out 5-fold cross validation with the pipeline using `cross_validate`.\n",
    "    - Store the results in `results_dict`.\n",
    "2. Display all the results so far as a dataframe. \n",
    "3. Compare the train and validation accuracies and `fit` and `score` times in each case."
   ]
  },
  {
   "cell_type": "code",
   "execution_count": 24,
   "metadata": {},
   "outputs": [],
   "source": [
    "### Build models\n",
    "\n",
    "models = {\n",
    "    \"decision tree\": DecisionTreeClassifier(),\n",
    "    \"kNN\": KNeighborsClassifier(),\n",
    "    \"RBF SVM\": SVC(),\n",
    "}"
   ]
  },
  {
   "cell_type": "code",
   "execution_count": 25,
   "metadata": {
    "slideshow": {
     "slide_type": "slide"
    }
   },
   "outputs": [],
   "source": [
    "for name, model in models.items():\n",
    "    pipe = Pipeline(\n",
    "        steps=[\n",
    "            (\"preprocessor\", preprocessor),\n",
    "            (name, model)\n",
    "        ]\n",
    "    )\n",
    "    scores = cross_validate(pipe, X_train, y_train, cv=5, return_train_score=True)\n",
    "    store_cross_val_results(name, scores, results_dict)"
   ]
  },
  {
   "cell_type": "code",
   "execution_count": 26,
   "metadata": {
    "slideshow": {
     "slide_type": "slide"
    }
   },
   "outputs": [
    {
     "data": {
      "text/html": [
       "<div>\n",
       "<style scoped>\n",
       "    .dataframe tbody tr th:only-of-type {\n",
       "        vertical-align: middle;\n",
       "    }\n",
       "\n",
       "    .dataframe tbody tr th {\n",
       "        vertical-align: top;\n",
       "    }\n",
       "\n",
       "    .dataframe thead th {\n",
       "        text-align: right;\n",
       "    }\n",
       "</style>\n",
       "<table border=\"1\" class=\"dataframe\">\n",
       "  <thead>\n",
       "    <tr style=\"text-align: right;\">\n",
       "      <th></th>\n",
       "      <th>mean_train_accuracy</th>\n",
       "      <th>mean_validation_accuracy</th>\n",
       "      <th>mean_fit_time (s)</th>\n",
       "      <th>mean_score_time (s)</th>\n",
       "      <th>std_train_score</th>\n",
       "      <th>std_test_score</th>\n",
       "    </tr>\n",
       "  </thead>\n",
       "  <tbody>\n",
       "    <tr>\n",
       "      <th>dummy</th>\n",
       "      <td>0.5007</td>\n",
       "      <td>0.5007</td>\n",
       "      <td>0.0412</td>\n",
       "      <td>0.0137</td>\n",
       "      <td>0.0000</td>\n",
       "      <td>0.0002</td>\n",
       "    </tr>\n",
       "    <tr>\n",
       "      <th>decision tree</th>\n",
       "      <td>1.0000</td>\n",
       "      <td>0.7681</td>\n",
       "      <td>0.3627</td>\n",
       "      <td>0.0114</td>\n",
       "      <td>0.0000</td>\n",
       "      <td>0.0060</td>\n",
       "    </tr>\n",
       "    <tr>\n",
       "      <th>kNN</th>\n",
       "      <td>0.8541</td>\n",
       "      <td>0.7951</td>\n",
       "      <td>0.0512</td>\n",
       "      <td>0.9809</td>\n",
       "      <td>0.0017</td>\n",
       "      <td>0.0064</td>\n",
       "    </tr>\n",
       "    <tr>\n",
       "      <th>RBF SVM</th>\n",
       "      <td>0.8463</td>\n",
       "      <td>0.8282</td>\n",
       "      <td>3.5244</td>\n",
       "      <td>0.5950</td>\n",
       "      <td>0.0027</td>\n",
       "      <td>0.0098</td>\n",
       "    </tr>\n",
       "  </tbody>\n",
       "</table>\n",
       "</div>"
      ],
      "text/plain": [
       "              mean_train_accuracy mean_validation_accuracy mean_fit_time (s)  \\\n",
       "dummy                      0.5007                   0.5007            0.0412   \n",
       "decision tree              1.0000                   0.7681            0.3627   \n",
       "kNN                        0.8541                   0.7951            0.0512   \n",
       "RBF SVM                    0.8463                   0.8282            3.5244   \n",
       "\n",
       "              mean_score_time (s) std_train_score std_test_score  \n",
       "dummy                      0.0137          0.0000         0.0002  \n",
       "decision tree              0.0114          0.0000         0.0060  \n",
       "kNN                        0.9809          0.0017         0.0064  \n",
       "RBF SVM                    0.5950          0.0027         0.0098  "
      ]
     },
     "execution_count": 26,
     "metadata": {},
     "output_type": "execute_result"
    }
   ],
   "source": [
    "pd.DataFrame(results_dict).T"
   ]
  },
  {
   "cell_type": "markdown",
   "metadata": {
    "slideshow": {
     "slide_type": "slide"
    }
   },
   "source": [
    "### Report\n",
    "\n",
    "Compared to the baseline `DummyClassifier` model from 4.1, all the training and validation accuracies of the other three models are quite higher than those dummy model has. The `RBF SVM` model has the best validation accuracy. It is also the best model here among the four models, with a high training accuracy (quite close to that of `kNN`) and the lowest gap between training and validation accuracies. The `DecesionTree` model is overfitting with the highest training accuracy but a large gap between the training accuracy and valication accuracy.\n",
    "\n",
    "Regarding to `fit` and `score` times, the `DummyClassifier` model is the fastest model among the four models. The `DecisionTree` model takes more time in fitting than the `DummyClassifier` model for learning the features, but score time is almost the same. The `kNN` model has roughly the same `fit` time as the `DummyClassifier` model since it doesn't learn in the fitting phase, whereas it spends the most time in predicting. The `RBF SVM` model has the highest `fit` time due to the calculations of distances in fitting step. It also takes some time in prediction, but lower than the `kNN` model."
   ]
  },
  {
   "cell_type": "markdown",
   "metadata": {},
   "source": [
    "### 4.3 Exploring importance of scaling\n",
    "\n",
    "Examine whether scaling helps in case of KNN and RBF SVM:\n",
    "\n",
    "1. Create a column transformer without the `StandardScaler` step for `numeric_features`. \n",
    "2. Repeat the steps in 4.2 with this new column transformer. \n",
    "3. Compare the results with scaled numeric features with unscaled numeric features."
   ]
  },
  {
   "cell_type": "code",
   "execution_count": 27,
   "metadata": {},
   "outputs": [
    {
     "data": {
      "text/html": [
       "<div>\n",
       "<style scoped>\n",
       "    .dataframe tbody tr th:only-of-type {\n",
       "        vertical-align: middle;\n",
       "    }\n",
       "\n",
       "    .dataframe tbody tr th {\n",
       "        vertical-align: top;\n",
       "    }\n",
       "\n",
       "    .dataframe thead th {\n",
       "        text-align: right;\n",
       "    }\n",
       "</style>\n",
       "<table border=\"1\" class=\"dataframe\">\n",
       "  <thead>\n",
       "    <tr style=\"text-align: right;\">\n",
       "      <th></th>\n",
       "      <th>mean_train_accuracy</th>\n",
       "      <th>mean_validation_accuracy</th>\n",
       "      <th>mean_fit_time (s)</th>\n",
       "      <th>mean_score_time (s)</th>\n",
       "      <th>std_train_score</th>\n",
       "      <th>std_test_score</th>\n",
       "    </tr>\n",
       "  </thead>\n",
       "  <tbody>\n",
       "    <tr>\n",
       "      <th>dummy</th>\n",
       "      <td>0.5007</td>\n",
       "      <td>0.5007</td>\n",
       "      <td>0.0376</td>\n",
       "      <td>0.0159</td>\n",
       "      <td>0.0000</td>\n",
       "      <td>0.0002</td>\n",
       "    </tr>\n",
       "    <tr>\n",
       "      <th>decision tree</th>\n",
       "      <td>1.0000</td>\n",
       "      <td>0.7721</td>\n",
       "      <td>0.3405</td>\n",
       "      <td>0.0099</td>\n",
       "      <td>0.0000</td>\n",
       "      <td>0.0054</td>\n",
       "    </tr>\n",
       "    <tr>\n",
       "      <th>kNN</th>\n",
       "      <td>0.7430</td>\n",
       "      <td>0.5984</td>\n",
       "      <td>0.0446</td>\n",
       "      <td>0.9665</td>\n",
       "      <td>0.0014</td>\n",
       "      <td>0.0064</td>\n",
       "    </tr>\n",
       "    <tr>\n",
       "      <th>RBF SVM</th>\n",
       "      <td>0.5786</td>\n",
       "      <td>0.5778</td>\n",
       "      <td>6.0951</td>\n",
       "      <td>1.2283</td>\n",
       "      <td>0.0015</td>\n",
       "      <td>0.0054</td>\n",
       "    </tr>\n",
       "  </tbody>\n",
       "</table>\n",
       "</div>"
      ],
      "text/plain": [
       "              mean_train_accuracy mean_validation_accuracy mean_fit_time (s)  \\\n",
       "dummy                      0.5007                   0.5007            0.0376   \n",
       "decision tree              1.0000                   0.7721            0.3405   \n",
       "kNN                        0.7430                   0.5984            0.0446   \n",
       "RBF SVM                    0.5786                   0.5778            6.0951   \n",
       "\n",
       "              mean_score_time (s) std_train_score std_test_score  \n",
       "dummy                      0.0159          0.0000         0.0002  \n",
       "decision tree              0.0099          0.0000         0.0054  \n",
       "kNN                        0.9665          0.0014         0.0064  \n",
       "RBF SVM                    1.2283          0.0015         0.0054  "
      ]
     },
     "execution_count": 27,
     "metadata": {},
     "output_type": "execute_result"
    }
   ],
   "source": [
    "results_dict_no_scaler = {}\n",
    "\n",
    "numeric_transformer_no_scaler = make_pipeline(\n",
    "    SimpleImputer(strategy=\"median\")\n",
    ")\n",
    "categorical_transformer = make_pipeline(\n",
    "    SimpleImputer(strategy=\"constant\", fill_value=\"missing\"),\n",
    "    OneHotEncoder(handle_unknown=\"ignore\")\n",
    ")\n",
    "\n",
    "preprocessor_no_scaler = ColumnTransformer(\n",
    "    transformers=[\n",
    "        (\"num\", numeric_transformer_no_scaler, numeric_features),\n",
    "        (\"cat\", categorical_transformer, categorical_features)\n",
    "    ]\n",
    ")\n",
    "\n",
    "models = {\n",
    "    \"dummy\": DummyClassifier(strategy=\"prior\"),\n",
    "    \"decision tree\": DecisionTreeClassifier(),\n",
    "    \"kNN\": KNeighborsClassifier(),\n",
    "    \"RBF SVM\": SVC(),\n",
    "}\n",
    "\n",
    "for name, model in models.items():\n",
    "    pipe = Pipeline(\n",
    "        steps=[\n",
    "            (\"preprocessor\", preprocessor_no_scaler),\n",
    "            (name, model)\n",
    "        ]\n",
    "    )\n",
    "    scores = cross_validate(pipe, X_train, y_train, cv=5, return_train_score=True)\n",
    "    store_cross_val_results(name, scores, results_dict_no_scaler)\n",
    "\n",
    "pd.DataFrame(results_dict_no_scaler).T"
   ]
  },
  {
   "cell_type": "markdown",
   "metadata": {},
   "source": [
    "### Report\n",
    "\n",
    "The Scaling is not necessary for decision tree. As we can see from the results in `4.3` and `4.2`, the training and validation accuracies have almost the same values. That consistency is attributed to the fact that in decision trees, we ask questions only on one feature and one split threshold at a time, without considering all features at once. Scaling is not necessary for decision trees learning split threshold values."
   ]
  },
  {
   "cell_type": "markdown",
   "metadata": {},
   "source": [
    "### 4.4 Hyperparameter optimization\n",
    "\n",
    "In practice, we'll carry out hyperparameter optimization for all different hyperparameters for the most promising classifiers.\n",
    "\n",
    "For now, we just carry out hyperparameter optimization for the hyperparameter `C` of our best performing SVC RBF classifier. For each `C` value in the `param_grid` in the starter code below: \n",
    "   - Create a pipeline object with two steps: preprocessor from 3.4 and SVC classifier with the value of `C`.\n",
    "   - Carry out cross-validation using `cross_validate` and store results in the `results_dict` using the function `store_cross_val_results`. You may pass the `model_name` as `SVC` + the current `C` value. "
   ]
  },
  {
   "cell_type": "code",
   "execution_count": 28,
   "metadata": {},
   "outputs": [],
   "source": [
    "param_grid = {\"C\": np.logspace(-3, 2, 6)}"
   ]
  },
  {
   "cell_type": "code",
   "execution_count": 29,
   "metadata": {},
   "outputs": [],
   "source": [
    "numeric_transformer = make_pipeline(\n",
    "    SimpleImputer(strategy=\"median\"),\n",
    "    StandardScaler()\n",
    ")\n",
    "\n",
    "categorical_transformer = make_pipeline(\n",
    "    SimpleImputer(strategy=\"constant\", fill_value=\"missing\"),\n",
    "    OneHotEncoder(handle_unknown=\"ignore\")\n",
    ")\n",
    "\n",
    "preprocessor = ColumnTransformer(\n",
    "    transformers=[\n",
    "        (\"num\", numeric_transformer, numeric_features),\n",
    "        (\"cat\", categorical_transformer, categorical_features)\n",
    "    ]\n",
    ")\n",
    "\n",
    "for c_value in param_grid[\"C\"]:\n",
    "    pipe = Pipeline(\n",
    "        steps=[\n",
    "            (\"preprocessor\", preprocessor),\n",
    "            (\"SVC\", SVC(C=c_value))\n",
    "        ]\n",
    "    )\n",
    "    scores = cross_validate(pipe, X_train, y_train, cv=5, return_train_score=True)\n",
    "    store_cross_val_results(\"SVC_\" + str(c_value), scores, results_dict)"
   ]
  },
  {
   "cell_type": "code",
   "execution_count": 30,
   "metadata": {},
   "outputs": [
    {
     "data": {
      "text/html": [
       "<div>\n",
       "<style scoped>\n",
       "    .dataframe tbody tr th:only-of-type {\n",
       "        vertical-align: middle;\n",
       "    }\n",
       "\n",
       "    .dataframe tbody tr th {\n",
       "        vertical-align: top;\n",
       "    }\n",
       "\n",
       "    .dataframe thead th {\n",
       "        text-align: right;\n",
       "    }\n",
       "</style>\n",
       "<table border=\"1\" class=\"dataframe\">\n",
       "  <thead>\n",
       "    <tr style=\"text-align: right;\">\n",
       "      <th></th>\n",
       "      <th>mean_train_accuracy</th>\n",
       "      <th>mean_validation_accuracy</th>\n",
       "      <th>mean_fit_time (s)</th>\n",
       "      <th>mean_score_time (s)</th>\n",
       "      <th>std_train_score</th>\n",
       "      <th>std_test_score</th>\n",
       "    </tr>\n",
       "  </thead>\n",
       "  <tbody>\n",
       "    <tr>\n",
       "      <th>dummy</th>\n",
       "      <td>0.5007</td>\n",
       "      <td>0.5007</td>\n",
       "      <td>0.0412</td>\n",
       "      <td>0.0137</td>\n",
       "      <td>0.0000</td>\n",
       "      <td>0.0002</td>\n",
       "    </tr>\n",
       "    <tr>\n",
       "      <th>decision tree</th>\n",
       "      <td>1.0000</td>\n",
       "      <td>0.7681</td>\n",
       "      <td>0.3627</td>\n",
       "      <td>0.0114</td>\n",
       "      <td>0.0000</td>\n",
       "      <td>0.0060</td>\n",
       "    </tr>\n",
       "    <tr>\n",
       "      <th>kNN</th>\n",
       "      <td>0.8541</td>\n",
       "      <td>0.7951</td>\n",
       "      <td>0.0512</td>\n",
       "      <td>0.9809</td>\n",
       "      <td>0.0017</td>\n",
       "      <td>0.0064</td>\n",
       "    </tr>\n",
       "    <tr>\n",
       "      <th>RBF SVM</th>\n",
       "      <td>0.8463</td>\n",
       "      <td>0.8282</td>\n",
       "      <td>3.5244</td>\n",
       "      <td>0.5950</td>\n",
       "      <td>0.0027</td>\n",
       "      <td>0.0098</td>\n",
       "    </tr>\n",
       "    <tr>\n",
       "      <th>SVC_0.001</th>\n",
       "      <td>0.6931</td>\n",
       "      <td>0.6930</td>\n",
       "      <td>6.0370</td>\n",
       "      <td>1.2601</td>\n",
       "      <td>0.0053</td>\n",
       "      <td>0.0020</td>\n",
       "    </tr>\n",
       "    <tr>\n",
       "      <th>SVC_0.01</th>\n",
       "      <td>0.7962</td>\n",
       "      <td>0.7954</td>\n",
       "      <td>4.6543</td>\n",
       "      <td>0.8977</td>\n",
       "      <td>0.0022</td>\n",
       "      <td>0.0077</td>\n",
       "    </tr>\n",
       "    <tr>\n",
       "      <th>SVC_0.1</th>\n",
       "      <td>0.8211</td>\n",
       "      <td>0.8163</td>\n",
       "      <td>3.3090</td>\n",
       "      <td>0.6568</td>\n",
       "      <td>0.0030</td>\n",
       "      <td>0.0060</td>\n",
       "    </tr>\n",
       "    <tr>\n",
       "      <th>SVC_1.0</th>\n",
       "      <td>0.8463</td>\n",
       "      <td>0.8282</td>\n",
       "      <td>3.0673</td>\n",
       "      <td>0.5481</td>\n",
       "      <td>0.0027</td>\n",
       "      <td>0.0098</td>\n",
       "    </tr>\n",
       "    <tr>\n",
       "      <th>SVC_10.0</th>\n",
       "      <td>0.8885</td>\n",
       "      <td>0.8198</td>\n",
       "      <td>3.9874</td>\n",
       "      <td>0.5505</td>\n",
       "      <td>0.0014</td>\n",
       "      <td>0.0080</td>\n",
       "    </tr>\n",
       "    <tr>\n",
       "      <th>SVC_100.0</th>\n",
       "      <td>0.9305</td>\n",
       "      <td>0.7950</td>\n",
       "      <td>8.1743</td>\n",
       "      <td>0.5282</td>\n",
       "      <td>0.0016</td>\n",
       "      <td>0.0081</td>\n",
       "    </tr>\n",
       "  </tbody>\n",
       "</table>\n",
       "</div>"
      ],
      "text/plain": [
       "              mean_train_accuracy mean_validation_accuracy mean_fit_time (s)  \\\n",
       "dummy                      0.5007                   0.5007            0.0412   \n",
       "decision tree              1.0000                   0.7681            0.3627   \n",
       "kNN                        0.8541                   0.7951            0.0512   \n",
       "RBF SVM                    0.8463                   0.8282            3.5244   \n",
       "SVC_0.001                  0.6931                   0.6930            6.0370   \n",
       "SVC_0.01                   0.7962                   0.7954            4.6543   \n",
       "SVC_0.1                    0.8211                   0.8163            3.3090   \n",
       "SVC_1.0                    0.8463                   0.8282            3.0673   \n",
       "SVC_10.0                   0.8885                   0.8198            3.9874   \n",
       "SVC_100.0                  0.9305                   0.7950            8.1743   \n",
       "\n",
       "              mean_score_time (s) std_train_score std_test_score  \n",
       "dummy                      0.0137          0.0000         0.0002  \n",
       "decision tree              0.0114          0.0000         0.0060  \n",
       "kNN                        0.9809          0.0017         0.0064  \n",
       "RBF SVM                    0.5950          0.0027         0.0098  \n",
       "SVC_0.001                  1.2601          0.0053         0.0020  \n",
       "SVC_0.01                   0.8977          0.0022         0.0077  \n",
       "SVC_0.1                    0.6568          0.0030         0.0060  \n",
       "SVC_1.0                    0.5481          0.0027         0.0098  \n",
       "SVC_10.0                   0.5505          0.0014         0.0080  \n",
       "SVC_100.0                  0.5282          0.0016         0.0081  "
      ]
     },
     "execution_count": 30,
     "metadata": {},
     "output_type": "execute_result"
    }
   ],
   "source": [
    "results_df = pd.DataFrame(results_dict).T\n",
    "results_df"
   ]
  },
  {
   "cell_type": "markdown",
   "metadata": {},
   "source": [
    "### Report\n",
    "\n",
    "It seems that when the hyperparameter `C=1.0`, `SVC` performs the best among the six values of C because when `C=1.0`, the `SVC` model has the best validation accuracy with a quite small gap between the training and validation accuracies. It is the same as the default value for `C` used by `scikit-learn`."
   ]
  },
  {
   "cell_type": "markdown",
   "metadata": {
    "slideshow": {
     "slide_type": "slide"
    }
   },
   "source": [
    "### 4.5 Hyperparameter optimization of multiple parameters\n",
    "\n",
    "As we saw in class `SVC` has two important hyperparameters: `C` and `gamma` which may interact with each other and we need to optimize them both simultaneously.  \n",
    "\n",
    "Let's carry out hyperparameter optimization of `C` and `gamma` simultaneously for the param grid. \n"
   ]
  },
  {
   "cell_type": "code",
   "execution_count": 31,
   "metadata": {
    "slideshow": {
     "slide_type": "slide"
    }
   },
   "outputs": [],
   "source": [
    "### TO ADD"
   ]
  },
  {
   "cell_type": "markdown",
   "metadata": {
    "slideshow": {
     "slide_type": "slide"
    }
   },
   "source": [
    "## 5: Evaluating on the test set <a name=\"5\"></a>\n",
    "<hr>\n",
    "\n",
    "Now that we have a best performing model, it's time to assess our model on the set aside test set.\n",
    "\n",
    "Examine whether the results we obtained using cross-validation on the train set are consistent with the results on the test set. "
   ]
  },
  {
   "cell_type": "markdown",
   "metadata": {},
   "source": [
    "### 5.1 Scoring on the unseen test set \n",
    "\n",
    "1. Report the results on `X_test` for all classifiers. Pick the best hyperparameter from 4.4 for the SVC RBF classifier. \n",
    "2. Compare and discuss the train, validation, and test results of all classifiers. "
   ]
  },
  {
   "cell_type": "code",
   "execution_count": 32,
   "metadata": {},
   "outputs": [],
   "source": [
    "test_results = {}\n",
    "\n",
    "models = {\n",
    "    \"dummy\": DummyClassifier(strategy=\"prior\"),\n",
    "    \"decision tree\": DecisionTreeClassifier(),\n",
    "    \"kNN\": KNeighborsClassifier(),\n",
    "    \"SVC_0.001\": SVC(C=1.e-03),\n",
    "    \"SVC_0.01\": SVC(C=1.e-02),\n",
    "    \"SVC_0.1\": SVC(C=1.e-01),\n",
    "    \"SVC_1.0\": SVC(C=1.e-00),\n",
    "    \"SVC_10.0\": SVC(C=1.e-01),\n",
    "    \"SVC_100.0\": SVC(C=1.e-02)\n",
    "}\n",
    "\n",
    "numeric_transformer = make_pipeline(\n",
    "    SimpleImputer(strategy=\"median\"),\n",
    "    StandardScaler()\n",
    ")\n",
    "\n",
    "categorical_transformer = make_pipeline(\n",
    "    SimpleImputer(strategy=\"constant\", fill_value=\"missing\"),\n",
    "    OneHotEncoder(handle_unknown=\"ignore\")\n",
    ")\n",
    "\n",
    "preprocessor = ColumnTransformer(\n",
    "    transformers=[\n",
    "        (\"num\", numeric_transformer, numeric_features),\n",
    "        (\"cat\", categorical_transformer, categorical_features)\n",
    "    ]\n",
    ")\n",
    "\n",
    "for name, model in models.items():\n",
    "    pipe = Pipeline(\n",
    "        steps=[\n",
    "            (\"preprocessor\", preprocessor),\n",
    "            (name, model)\n",
    "        ]\n",
    "    )\n",
    "    pipe.fit(X_train, y_train)\n",
    "    scores = pipe.score(X_test, y_test)\n",
    "    test_results[name] = {\"test_score\": scores}"
   ]
  },
  {
   "cell_type": "code",
   "execution_count": 33,
   "metadata": {},
   "outputs": [
    {
     "data": {
      "text/html": [
       "<div>\n",
       "<style scoped>\n",
       "    .dataframe tbody tr th:only-of-type {\n",
       "        vertical-align: middle;\n",
       "    }\n",
       "\n",
       "    .dataframe tbody tr th {\n",
       "        vertical-align: top;\n",
       "    }\n",
       "\n",
       "    .dataframe thead th {\n",
       "        text-align: right;\n",
       "    }\n",
       "</style>\n",
       "<table border=\"1\" class=\"dataframe\">\n",
       "  <thead>\n",
       "    <tr style=\"text-align: right;\">\n",
       "      <th></th>\n",
       "      <th>index</th>\n",
       "      <th>mean_train_accuracy</th>\n",
       "      <th>mean_validation_accuracy</th>\n",
       "      <th>mean_fit_time (s)</th>\n",
       "      <th>mean_score_time (s)</th>\n",
       "      <th>std_train_score</th>\n",
       "      <th>std_test_score</th>\n",
       "      <th>test_score</th>\n",
       "    </tr>\n",
       "  </thead>\n",
       "  <tbody>\n",
       "    <tr>\n",
       "      <th>0</th>\n",
       "      <td>dummy</td>\n",
       "      <td>0.5007</td>\n",
       "      <td>0.5007</td>\n",
       "      <td>0.0412</td>\n",
       "      <td>0.0137</td>\n",
       "      <td>0.0000</td>\n",
       "      <td>0.0002</td>\n",
       "      <td>0.497290</td>\n",
       "    </tr>\n",
       "    <tr>\n",
       "      <th>1</th>\n",
       "      <td>decision tree</td>\n",
       "      <td>1.0000</td>\n",
       "      <td>0.7681</td>\n",
       "      <td>0.3627</td>\n",
       "      <td>0.0114</td>\n",
       "      <td>0.0000</td>\n",
       "      <td>0.0060</td>\n",
       "      <td>0.766656</td>\n",
       "    </tr>\n",
       "    <tr>\n",
       "      <th>2</th>\n",
       "      <td>kNN</td>\n",
       "      <td>0.8541</td>\n",
       "      <td>0.7951</td>\n",
       "      <td>0.0512</td>\n",
       "      <td>0.9809</td>\n",
       "      <td>0.0017</td>\n",
       "      <td>0.0064</td>\n",
       "      <td>0.794390</td>\n",
       "    </tr>\n",
       "    <tr>\n",
       "      <th>3</th>\n",
       "      <td>SVC_0.001</td>\n",
       "      <td>0.6931</td>\n",
       "      <td>0.6930</td>\n",
       "      <td>6.0370</td>\n",
       "      <td>1.2601</td>\n",
       "      <td>0.0053</td>\n",
       "      <td>0.0020</td>\n",
       "      <td>0.774625</td>\n",
       "    </tr>\n",
       "    <tr>\n",
       "      <th>4</th>\n",
       "      <td>SVC_0.01</td>\n",
       "      <td>0.7962</td>\n",
       "      <td>0.7954</td>\n",
       "      <td>4.6543</td>\n",
       "      <td>0.8977</td>\n",
       "      <td>0.0022</td>\n",
       "      <td>0.0077</td>\n",
       "      <td>0.795983</td>\n",
       "    </tr>\n",
       "    <tr>\n",
       "      <th>5</th>\n",
       "      <td>SVC_0.1</td>\n",
       "      <td>0.8211</td>\n",
       "      <td>0.8163</td>\n",
       "      <td>3.3090</td>\n",
       "      <td>0.6568</td>\n",
       "      <td>0.0030</td>\n",
       "      <td>0.0060</td>\n",
       "      <td>0.814791</td>\n",
       "    </tr>\n",
       "    <tr>\n",
       "      <th>6</th>\n",
       "      <td>SVC_1.0</td>\n",
       "      <td>0.8463</td>\n",
       "      <td>0.8282</td>\n",
       "      <td>3.0673</td>\n",
       "      <td>0.5481</td>\n",
       "      <td>0.0027</td>\n",
       "      <td>0.0098</td>\n",
       "      <td>0.821804</td>\n",
       "    </tr>\n",
       "    <tr>\n",
       "      <th>7</th>\n",
       "      <td>SVC_10.0</td>\n",
       "      <td>0.8885</td>\n",
       "      <td>0.8198</td>\n",
       "      <td>3.9874</td>\n",
       "      <td>0.5505</td>\n",
       "      <td>0.0014</td>\n",
       "      <td>0.0080</td>\n",
       "      <td>0.814791</td>\n",
       "    </tr>\n",
       "    <tr>\n",
       "      <th>8</th>\n",
       "      <td>SVC_100.0</td>\n",
       "      <td>0.9305</td>\n",
       "      <td>0.7950</td>\n",
       "      <td>8.1743</td>\n",
       "      <td>0.5282</td>\n",
       "      <td>0.0016</td>\n",
       "      <td>0.0081</td>\n",
       "      <td>0.795983</td>\n",
       "    </tr>\n",
       "  </tbody>\n",
       "</table>\n",
       "</div>"
      ],
      "text/plain": [
       "           index mean_train_accuracy mean_validation_accuracy  \\\n",
       "0          dummy              0.5007                   0.5007   \n",
       "1  decision tree              1.0000                   0.7681   \n",
       "2            kNN              0.8541                   0.7951   \n",
       "3      SVC_0.001              0.6931                   0.6930   \n",
       "4       SVC_0.01              0.7962                   0.7954   \n",
       "5        SVC_0.1              0.8211                   0.8163   \n",
       "6        SVC_1.0              0.8463                   0.8282   \n",
       "7       SVC_10.0              0.8885                   0.8198   \n",
       "8      SVC_100.0              0.9305                   0.7950   \n",
       "\n",
       "  mean_fit_time (s) mean_score_time (s) std_train_score std_test_score  \\\n",
       "0            0.0412              0.0137          0.0000         0.0002   \n",
       "1            0.3627              0.0114          0.0000         0.0060   \n",
       "2            0.0512              0.9809          0.0017         0.0064   \n",
       "3            6.0370              1.2601          0.0053         0.0020   \n",
       "4            4.6543              0.8977          0.0022         0.0077   \n",
       "5            3.3090              0.6568          0.0030         0.0060   \n",
       "6            3.0673              0.5481          0.0027         0.0098   \n",
       "7            3.9874              0.5505          0.0014         0.0080   \n",
       "8            8.1743              0.5282          0.0016         0.0081   \n",
       "\n",
       "   test_score  \n",
       "0    0.497290  \n",
       "1    0.766656  \n",
       "2    0.794390  \n",
       "3    0.774625  \n",
       "4    0.795983  \n",
       "5    0.814791  \n",
       "6    0.821804  \n",
       "7    0.814791  \n",
       "8    0.795983  "
      ]
     },
     "execution_count": 33,
     "metadata": {},
     "output_type": "execute_result"
    }
   ],
   "source": [
    "pd.merge(results_df.reset_index(),\n",
    "         pd.DataFrame(test_results).T.reset_index(),\n",
    "         how=\"inner\",\n",
    "         on=\"index\")"
   ]
  },
  {
   "cell_type": "markdown",
   "metadata": {},
   "source": [
    "### Report\n",
    "\n",
    "Compared to the baseline `DummyClassifier` model, the training, validation and test accuracies of all the other models are much higher than those dummy model has. The test scores of the models `DecisionTree`, `SVC_0.01`, `SVC_0.1`, `SVC_1.0`, `SVC_10.0` and `SVC_100.0` are consistent with their validation scores. The models `DummyClassifier`, `kNN` and `SVC_0.001` are underfitting (because they have low training and validation accuracies with small gap, and `kNN` and `SVC_0.001` models have much higher test scores than their validation scores). The model `DecisionTree` is overfitting with the highest training accuracy but a large gap between the training accuracy and valication accuracy.\n",
    "\n",
    "The `SVC_1.0` model (hyperparameter `C=1.0`) performs the best among all the models, with the best validation and test accuracies and a quite small gap between training and validation accuracies.\n",
    "\n",
    "Regarding to `fit` and `score` times, the `DummyClassifier` model is the fastest model among all the models. The `DecisionTree` model takes more time in fitting than the `DummyClassifier` model for learning the features, but their score times are almost the same. The `kNN` model has roughly the same `fit` time as the `DummyClassifier` model since it doesn't learn in the fitting phase, whereas it spends about 30X time in predicting. The `SVC` models have the much higher `fit` times than the other three models due to the calculations of distances in fitting step. It also takes some time in prediction, but lower than the `kNN` model. As the hyperparameter `C` increases, `SVC` model gets more complex, but the score time is decreasing. For the smallest and the largest values of `C`, the model takes the most `fit` times, and the model with `C=1.0` has the smallest `fit` time."
   ]
  }
 ],
 "metadata": {
  "celltoolbar": "Create Assignment",
  "kernelspec": {
   "display_name": "Python [conda env:571]",
   "language": "python",
   "name": "conda-env-571-py"
  },
  "language_info": {
   "codemirror_mode": {
    "name": "ipython",
    "version": 3
   },
   "file_extension": ".py",
   "mimetype": "text/x-python",
   "name": "python",
   "nbconvert_exporter": "python",
   "pygments_lexer": "ipython3",
   "version": "3.8.6"
  },
  "toc-autonumbering": false
 },
 "nbformat": 4,
 "nbformat_minor": 4
}
